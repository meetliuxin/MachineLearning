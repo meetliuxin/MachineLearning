{
 "cells": [
  {
   "cell_type": "code",
   "execution_count": 1,
   "metadata": {},
   "outputs": [
    {
     "name": "stdout",
     "output_type": "stream",
     "text": [
      "(97, 2)\n",
      "[[ 6.1101 17.592 ]\n",
      " [ 5.5277  9.1302]\n",
      " [ 8.5186 13.662 ]\n",
      " [ 7.0032 11.854 ]\n",
      " [ 5.8598  6.8233]]\n",
      "(97, 1)\n",
      "(97, 1)\n",
      "[[6.1101]\n",
      " [5.5277]\n",
      " [8.5186]\n",
      " [7.0032]\n",
      " [5.8598]]\n",
      "[[17.592 ]\n",
      " [ 9.1302]\n",
      " [13.662 ]\n",
      " [11.854 ]\n",
      " [ 6.8233]]\n"
     ]
    }
   ],
   "source": [
    "import numpy as np\n",
    "import matplotlib.pyplot as plt\n",
    "\n",
    "#load data from file\n",
    "def load_data(filename):\n",
    "    data = []\n",
    "    file = open(filename)\n",
    "    for line in file.readlines():\n",
    "        lineArr = line.strip().split(',')\n",
    "        col_num = len(lineArr)\n",
    "        temp = []\n",
    "        for i in xrange(col_num):\n",
    "            temp.append(float(lineArr[i]))\n",
    "        data.append(temp)\n",
    "    return np.array(data)\n",
    "#打印出数据集看看\n",
    "data = load_data('ex1data1.txt')\n",
    "print data.shape\n",
    "print data[:5]\n",
    "\n",
    "X = data[:,:-1]\n",
    "y = data[:,-1:]\n",
    "print X.shape\n",
    "print y.shape\n",
    "print X[:5]\n",
    "print y[:5]\n",
    "        "
   ]
  },
  {
   "cell_type": "code",
   "execution_count": 2,
   "metadata": {},
   "outputs": [
    {
     "data": {
      "image/png": "[encoded data removed]",
      "text/plain": [
       "<Figure size 432x288 with 1 Axes>"
      ]
     },
     "metadata": {},
     "output_type": "display_data"
    }
   ],
   "source": [
    "#plot data\n",
    "#可视化一下数据集\n",
    "plt.scatter(X, y, color = 'r',marker= '*')\n",
    "plt.xlabel('X')\n",
    "plt.ylabel('y')\n",
    "plt.show()\n"
   ]
  },
  {
   "cell_type": "code",
   "execution_count": 3,
   "metadata": {},
   "outputs": [
    {
     "name": "stdout",
     "output_type": "stream",
     "text": [
      "(97, 2)\n",
      "[[ 1.      6.1101]\n",
      " [ 1.      5.5277]\n",
      " [ 1.      8.5186]\n",
      " [ 1.      7.0032]\n",
      " [ 1.      5.8598]\n",
      " [ 1.      8.3829]\n",
      " [ 1.      7.4764]\n",
      " [ 1.      8.5781]\n",
      " [ 1.      6.4862]\n",
      " [ 1.      5.0546]\n",
      " [ 1.      5.7107]\n",
      " [ 1.     14.164 ]\n",
      " [ 1.      5.734 ]\n",
      " [ 1.      8.4084]\n",
      " [ 1.      5.6407]\n",
      " [ 1.      5.3794]\n",
      " [ 1.      6.3654]\n",
      " [ 1.      5.1301]\n",
      " [ 1.      6.4296]\n",
      " [ 1.      7.0708]\n",
      " [ 1.      6.1891]\n",
      " [ 1.     20.27  ]\n",
      " [ 1.      5.4901]\n",
      " [ 1.      6.3261]\n",
      " [ 1.      5.5649]\n",
      " [ 1.     18.945 ]\n",
      " [ 1.     12.828 ]\n",
      " [ 1.     10.957 ]\n",
      " [ 1.     13.176 ]\n",
      " [ 1.     22.203 ]\n",
      " [ 1.      5.2524]\n",
      " [ 1.      6.5894]\n",
      " [ 1.      9.2482]\n",
      " [ 1.      5.8918]\n",
      " [ 1.      8.2111]\n",
      " [ 1.      7.9334]\n",
      " [ 1.      8.0959]\n",
      " [ 1.      5.6063]\n",
      " [ 1.     12.836 ]\n",
      " [ 1.      6.3534]\n",
      " [ 1.      5.4069]\n",
      " [ 1.      6.8825]\n",
      " [ 1.     11.708 ]\n",
      " [ 1.      5.7737]\n",
      " [ 1.      7.8247]\n",
      " [ 1.      7.0931]\n",
      " [ 1.      5.0702]\n",
      " [ 1.      5.8014]\n",
      " [ 1.     11.7   ]\n",
      " [ 1.      5.5416]\n",
      " [ 1.      7.5402]\n",
      " [ 1.      5.3077]\n",
      " [ 1.      7.4239]\n",
      " [ 1.      7.6031]\n",
      " [ 1.      6.3328]\n",
      " [ 1.      6.3589]\n",
      " [ 1.      6.2742]\n",
      " [ 1.      5.6397]\n",
      " [ 1.      9.3102]\n",
      " [ 1.      9.4536]\n",
      " [ 1.      8.8254]\n",
      " [ 1.      5.1793]\n",
      " [ 1.     21.279 ]\n",
      " [ 1.     14.908 ]\n",
      " [ 1.     18.959 ]\n",
      " [ 1.      7.2182]\n",
      " [ 1.      8.2951]\n",
      " [ 1.     10.236 ]\n",
      " [ 1.      5.4994]\n",
      " [ 1.     20.341 ]\n",
      " [ 1.     10.136 ]\n",
      " [ 1.      7.3345]\n",
      " [ 1.      6.0062]\n",
      " [ 1.      7.2259]\n",
      " [ 1.      5.0269]\n",
      " [ 1.      6.5479]\n",
      " [ 1.      7.5386]\n",
      " [ 1.      5.0365]\n",
      " [ 1.     10.274 ]\n",
      " [ 1.      5.1077]\n",
      " [ 1.      5.7292]\n",
      " [ 1.      5.1884]\n",
      " [ 1.      6.3557]\n",
      " [ 1.      9.7687]\n",
      " [ 1.      6.5159]\n",
      " [ 1.      8.5172]\n",
      " [ 1.      9.1802]\n",
      " [ 1.      6.002 ]\n",
      " [ 1.      5.5204]\n",
      " [ 1.      5.0594]\n",
      " [ 1.      5.7077]\n",
      " [ 1.      7.6366]\n",
      " [ 1.      5.8707]\n",
      " [ 1.      5.3054]\n",
      " [ 1.      8.2934]\n",
      " [ 1.     13.394 ]\n",
      " [ 1.      5.4369]]\n",
      "[[0.]\n",
      " [0.]]\n",
      "cost = 32.072734,with W = [0,0]\n",
      "cost = 54.242455,with W = [-1,2]\n"
     ]
    }
   ],
   "source": [
    "#compute the cost\n",
    "num_train = X.shape[0]\n",
    "one = np.ones((num_train,1))\n",
    "X = np.hstack((one,data[:,:-1]))\n",
    "W = np.zeros((2,1))\n",
    "print X.shape\n",
    "print X\n",
    "print W\n",
    "\n",
    "#定义cost函数，并测试\n",
    "def compute_cost(X_test,y_test,theta):\n",
    "    num_X = X_test.shape[0]\n",
    "    cost = 0.5 * np.sum(np.square(X_test.dot(theta) - y_test)) / num_X\n",
    "    return cost\n",
    "\n",
    "cost_1 = compute_cost(X,y,W)\n",
    "print 'cost = %f,with W = [0,0]'%(cost_1)\n",
    "cost_2 = compute_cost(X,y,np.array([[-1],[2]]))\n",
    "print 'cost = %f,with W = [-1,2]'%(cost_2)"
   ]
  },
  {
   "cell_type": "code",
   "execution_count": 4,
   "metadata": {},
   "outputs": [
    {
     "name": "stdout",
     "output_type": "stream",
     "text": [
      "[[-3.89578082]\n",
      " [ 1.19303364]]\n",
      "4.476971375975179\n"
     ]
    }
   ],
   "source": [
    "#gradient descent\n",
    "#定义梯度下降函数，更新参数theta。并测试\n",
    "def gradient_descent(X_test,y_test,theta,alpha = 0.01,iters = 10000):\n",
    "    J_history = []\n",
    "    num_X = X_test.shape[0]\n",
    "    for i in xrange(iters):\n",
    "        theta = theta - alpha * X_test.T.dot(X_test.dot(theta) - y_test) / num_X\n",
    "        cost = compute_cost(X_test,y_test,theta)\n",
    "        J_history.append(cost)\n",
    "    return theta,J_history\n",
    "\n",
    "theta,J_history = gradient_descent(X,y,np.array([[0.001],[0.001]]))\n",
    "print theta\n",
    "print J_history[-1]"
   ]
  },
  {
   "cell_type": "code",
   "execution_count": 5,
   "metadata": {},
   "outputs": [
    {
     "name": "stdout",
     "output_type": "stream",
     "text": [
      "[[2798.36913995]] [[44554.54648245]]\n"
     ]
    }
   ],
   "source": [
    "#predict 预测一下\n",
    "predict1 = np.array([[1,3.5]]).dot(theta)\n",
    "predict2 = np.array([[1,7]]).dot(theta)\n",
    "print predict1*10000,predict2*10000"
   ]
  },
  {
   "cell_type": "code",
   "execution_count": 6,
   "metadata": {},
   "outputs": [
    {
     "data": {
      "image/png": "[encoded data removed]",
      "text/plain": [
       "<Figure size 432x288 with 2 Axes>"
      ]
     },
     "metadata": {},
     "output_type": "display_data"
    }
   ],
   "source": [
    "#plot the result 可视化回归曲线\n",
    "plt.subplot(211)\n",
    "plt.scatter(X[:,1],y,color = 'r',marker = 'x')\n",
    "plt.xlabel('X')\n",
    "plt.ylabel('y')\n",
    "plt.plot(X[:,1],X.dot(theta),color = 'black',marker='_')\n",
    "#可视化cost变化曲线\n",
    "plt.subplot(212)\n",
    "plt.plot(J_history)\n",
    "plt.xlabel('iters')\n",
    "plt.ylabel('cost')\n",
    "plt.show()"
   ]
  },
  {
   "cell_type": "code",
   "execution_count": null,
   "metadata": {},
   "outputs": [
    {
     "name": "stdout",
     "output_type": "stream",
     "text": [
      "(100, 100) 328.0929055495073 311.92025944831784\n"
     ]
    }
   ],
   "source": [
    "#可视化一下3d图像，因为J与theta0和theta1两个参数有关\n",
    "#Visualizing J(theta_0, theta_1)\n",
    "import numpy as np\n",
    "from mpl_toolkits.mplot3d import Axes3D\n",
    "import matplotlib.pyplot as plt\n",
    "\n",
    "size = 100\n",
    "theta0Vals = np.linspace(-10,10, size)\n",
    "theta1Vals = np.linspace(-1, 4, size)\n",
    "JVals = np.zeros((size, size))\n",
    "for i in range(size):\n",
    "    for j in range(size):\n",
    "        col = np.array([[theta0Vals[i]], [theta1Vals[j]]]).reshape(-1,1)\n",
    "        JVals[i,j] = compute_cost(X,y,col)\n",
    "\n",
    "theta0Vals, theta1Vals = np.meshgrid(theta0Vals, theta1Vals)\n",
    "JVals = JVals.T\n",
    "print JVals.shape,JVals[0,0],JVals[1,1] #test correct\n",
    "\n",
    "fig = plt.figure()\n",
    "ax = Axes3D(fig)\n",
    "ax.plot_surface(theta0Vals, theta1Vals, JVals)\n",
    "ax.set_xlabel(r'$\\theta_0$')\n",
    "ax.set_ylabel(r'$\\theta_1$')\n",
    "ax.set_zlabel(r'$J(\\theta)$')\n",
    "plt.show()"
   ]
  },
  {
   "cell_type": "code",
   "execution_count": null,
   "metadata": {},
   "outputs": [],
   "source": [
    "#绘制轮廓曲线,因为J与theta0和theta1两个参数有关\n",
    "contourFig = plt.figure()\n",
    "ax = contourFig.add_subplot(111)\n",
    "ax.set_xlabel(r'$\\theta_0$')\n",
    "ax.set_ylabel(r'$\\theta_1$')\n",
    "\n",
    "CS = ax.contour(theta0Vals, theta1Vals, JVals, np.logspace(-2,3,20))\n",
    "plt.clabel(CS, inline=1, fontsize=10)\n",
    "\n",
    "# 绘制最优解\n",
    "ax.plot(theta[0,0], theta[1,0], 'rx', markersize=10, linewidth=2)\n",
    "plt.show()\n"
   ]
  }
 ],
 "metadata": {
  "kernelspec": {
   "display_name": "Python 2",
   "language": "python",
   "name": "python2"
  },
  "language_info": {
   "codemirror_mode": {
    "name": "ipython",
    "version": 2
   },
   "file_extension": ".py",
   "mimetype": "text/x-python",
   "name": "python",
   "nbconvert_exporter": "python",
   "pygments_lexer": "ipython2",
   "version": "2.7.12"
  }
 },
 "nbformat": 4,
 "nbformat_minor": 2
}

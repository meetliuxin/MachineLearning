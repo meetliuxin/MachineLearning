{
 "cells": [
  {
   "cell_type": "code",
   "execution_count": 1,
   "metadata": {},
   "outputs": [
    {
     "name": "stdout",
     "output_type": "stream",
     "text": [
      "(100, 3)\n",
      "[[34.62365962 78.02469282  0.        ]\n",
      " [30.28671077 43.89499752  0.        ]\n",
      " [35.84740877 72.90219803  0.        ]\n",
      " [60.18259939 86.3085521   1.        ]\n",
      " [79.03273605 75.34437644  1.        ]]\n",
      "(100, 2)\n",
      "(100, 1)\n",
      "[[34.62365962 78.02469282]\n",
      " [30.28671077 43.89499752]\n",
      " [35.84740877 72.90219803]\n",
      " [60.18259939 86.3085521 ]\n",
      " [79.03273605 75.34437644]]\n",
      "[[0.]\n",
      " [0.]\n",
      " [0.]\n",
      " [1.]\n",
      " [1.]]\n"
     ]
    }
   ],
   "source": [
    "#本文是逻辑回归算法实现\n",
    "import numpy as np\n",
    "import matplotlib.pyplot as plt\n",
    "\n",
    "#导入数据\n",
    "def load_data(filename):\n",
    "    data = []\n",
    "    file = open(filename)\n",
    "    for line in file.readlines():\n",
    "        lineArr = line.strip().split(',')\n",
    "        col_num = len(lineArr)\n",
    "        temp = []\n",
    "        for i in xrange(col_num):\n",
    "            temp.append(float(lineArr[i]))\n",
    "        data.append(temp)\n",
    "    return np.array(data)\n",
    "\n",
    "data = load_data('ex2data1.txt')\n",
    "print data.shape\n",
    "print data[:5]\n",
    "\n",
    "\n",
    "\n",
    "X = data[:,:-1]\n",
    "y = data[:,-1:]\n",
    "print X.shape\n",
    "print y.shape\n",
    "print X[:5]\n",
    "print y[:5]\n",
    "\n"
   ]
  },
  {
   "cell_type": "code",
   "execution_count": 2,
   "metadata": {},
   "outputs": [
    {
     "data": {
      "image/png": "[encoded data removed]",
      "text/plain": [
       "<Figure size 432x288 with 1 Axes>"
      ]
     },
     "metadata": {},
     "output_type": "display_data"
    }
   ],
   "source": [
    "#可视化一下数据集\n",
    "import matplotlib.pyplot as plt\n",
    "\n",
    "label0 = np.where(y.ravel() == 0)\n",
    "plt.scatter(X[label0,0],X[label0,1],marker='x',color='r',label = 'NOt admitted')\n",
    "label1 = np.where(y.ravel() == 1)\n",
    "plt.scatter(X[label1,0],X[label1,1],marker='o',color='b',label = 'Admitted')\n",
    "\n",
    "plt.xlabel('Exam 1 score')\n",
    "plt.ylabel('Exam 2 score')\n",
    "plt.legend(loc = 'upper left')\n",
    "plt.show()\n",
    "\n",
    "\n"
   ]
  },
  {
   "cell_type": "code",
   "execution_count": 3,
   "metadata": {},
   "outputs": [
    {
     "name": "stdout",
     "output_type": "stream",
     "text": [
      "0.6931471805599453\n",
      "[ -0.1        -12.00921659 -11.26284221]\n",
      "compute with w=[-24,0.2,0.2]\n",
      "Expected cost (approx):0.218....\n",
      "0.21833019382659777\n",
      "Expected gradients (approx): [0.04,2.566,0.646]\n",
      "[0.04290299 2.56623412 2.64679737]\n"
     ]
    }
   ],
   "source": [
    "#compute the cost计算cost以及梯度gradient\n",
    "\n",
    "def sigmoid(x):\n",
    "    return 1 / (1+np.exp(-x))\n",
    "def out(x,W):\n",
    "    return sigmoid(np.dot(x,W))\n",
    "def compute_cost(X_train,y_train,theta):\n",
    "    m = X_train.shape[0]\n",
    "    J = 0\n",
    "    theta = theta.reshape(-1,1)\n",
    "    grad = np.zeros((X_train.shape[1],1))\n",
    "    h = out(X_train,theta)\n",
    "    J = -1*np.sum(y_train*np.log(h) + (1-y_train)*np.log((1-h))) / m\n",
    "    grad = X_train.T.dot((h-y_train)) / m\n",
    "    grad = grad.ravel()\n",
    "    \n",
    "    return J,grad\n",
    "\n",
    "\n",
    "#test the grad，用简单的数值测试一下，编写的代码是否计算正确\n",
    "\n",
    "m = X.shape[0]\n",
    "one = np.ones((m,1))\n",
    "X = np.hstack((one,data[:,:-1]))\n",
    "W = np.zeros((X.shape[1],1))\n",
    "\n",
    "cost,grad = compute_cost(X,y,W)\n",
    "print cost\n",
    "print grad\n",
    "\n",
    "cost1,grad1 = compute_cost(X,y,np.array([[-24],[0.2],[0.2]]))\n",
    "\n",
    "\n",
    "\n",
    "\n",
    "\n",
    "\n",
    "print 'compute with w=[-24,0.2,0.2]'\n",
    "print 'Expected cost (approx):0.218....'\n",
    "print cost1\n",
    "print 'Expected gradients (approx): [0.04,2.566,0.646]'\n",
    "print grad1"
   ]
  }
 ],
 "metadata": {
  "kernelspec": {
   "display_name": "Python 2",
   "language": "python",
   "name": "python2"
  },
  "language_info": {
   "codemirror_mode": {
    "name": "ipython",
    "version": 2
   },
   "file_extension": ".py",
   "mimetype": "text/x-python",
   "name": "python",
   "nbconvert_exporter": "python",
   "pygments_lexer": "ipython2",
   "version": "2.7.12"
  }
 },
 "nbformat": 4,
 "nbformat_minor": 2
}

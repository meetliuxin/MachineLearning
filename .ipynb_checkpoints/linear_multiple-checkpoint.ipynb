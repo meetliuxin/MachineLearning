{
 "cells": [
  {
   "cell_type": "code",
   "execution_count": 1,
   "metadata": {},
   "outputs": [
    {
     "name": "stdout",
     "output_type": "stream",
     "text": [
      "(47, 3)\n",
      "[[  2104      3 399900]\n",
      " [  1600      3 329900]\n",
      " [  2400      3 369000]\n",
      " [  1416      2 232000]\n",
      " [  3000      4 539900]]\n",
      "(47, 2)\n",
      "(47, 1)\n",
      "[[2104    3]\n",
      " [1600    3]\n",
      " [2400    3]\n",
      " [1416    2]\n",
      " [3000    4]]\n",
      "[[399900]\n",
      " [329900]\n",
      " [369000]\n",
      " [232000]\n",
      " [539900]]\n"
     ]
    }
   ],
   "source": [
    "import numpy as np\n",
    "import matplotlib.pyplot as plt\n",
    "\n",
    "#load data from file\n",
    "def load_data(filename):\n",
    "    data = []\n",
    "    file = open(filename)\n",
    "    for line in file.readlines():\n",
    "        temp = []\n",
    "        lineArr = line.strip().split(',')\n",
    "        col_num = len(lineArr)\n",
    "        for i in xrange(col_num):\n",
    "            temp.append(int(lineArr[i]))\n",
    "        data.append(temp)\n",
    "    return np.array(data)\n",
    "\n",
    "data = load_data('ex1data2.txt')\n",
    "print data.shape\n",
    "print data[:5]\n",
    "\n",
    "X = data[:,:-1]\n",
    "y = data[:,-1:]\n",
    "print X.shape\n",
    "print y.shape\n",
    "print X[:5]\n",
    "print y[:5]\n"
   ]
  },
  {
   "cell_type": "code",
   "execution_count": 2,
   "metadata": {},
   "outputs": [],
   "source": [
    "#feature normalize,Scale features and set them to zero mean\n",
    "def featureNormalize(X):\n",
    "    X_norm = X\n",
    "    mu = np.zeros((1,X.shape[1]))\n",
    "    sigma = np.zeros((1,X.shape[1]))\n",
    "    \n",
    "    mu = np.mean(X,axis=0)\n",
    "    sigma = np.std(X,axis=0)\n",
    "    X_norm = (X - mu) / sigma\n",
    "    \n",
    "    return X_norm,mu,sigma\n",
    "\n",
    "\n",
    "\n"
   ]
  },
  {
   "cell_type": "code",
   "execution_count": 3,
   "metadata": {},
   "outputs": [
    {
     "name": "stdout",
     "output_type": "stream",
     "text": [
      "run gradient descent\n",
      "Theta computed from gradient descent:  [[340227.89154751]\n",
      " [107315.97282379]\n",
      " [ -4447.3463406 ]]\n"
     ]
    }
   ],
   "source": [
    "X_norm,mu,sigma = featureNormalize(data[:,:-1])\n",
    "num_train = X.shape[0]\n",
    "one = np.ones((num_train,1))\n",
    "X = np.hstack((one,X_norm))\n",
    "W = np.zeros((X.shape[1],1))\n",
    "#计算cost\n",
    "def compute_cost(X_test,y_test,theta):\n",
    "    num_X = X_test.shape[0]\n",
    "    cost = 0.5 * np.sum(np.square(X_test.dot(theta) - y_test)) / num_X\n",
    "    return cost\n",
    "#计算梯度下降\n",
    "def gradient_descent(X_test,y_test,theta,alpha = 0.005,iters = 1500):\n",
    "    J_history = []\n",
    "    num_X = X_test.shape[0]\n",
    "    for i in xrange(iters):\n",
    "        theta = theta - alpha * X_test.T.dot(X_test.dot(theta) - y_test) / num_X\n",
    "        cost = compute_cost(X_test,y_test,theta)\n",
    "        J_history.append(cost)\n",
    "    return theta,J_history\n",
    "#have a test\n",
    "print 'run gradient descent'\n",
    "theta,J_history = gradient_descent(X,y,W)\n",
    "print 'Theta computed from gradient descent: ',theta\n",
    "\n",
    "\n",
    "\n",
    "\n",
    "# #测试一下结果\n",
    "# print 'run gradient descent'\n",
    "# theta,J_history = gradient_descent(X,y,W)\n",
    "# print 'Theta computed from gradient descent: ',theta\n"
   ]
  },
  {
   "cell_type": "code",
   "execution_count": 4,
   "metadata": {},
   "outputs": [
    {
     "data": {
      "image/png": "[encoded data removed]",
      "text/plain": [
       "<Figure size 432x288 with 1 Axes>"
      ]
     },
     "metadata": {},
     "output_type": "display_data"
    }
   ],
   "source": [
    "#plot the j_cost.可以调节学习率\n",
    "import matplotlib.pyplot as plt\n",
    "plt.plot(J_history,color='b')\n",
    "plt.xlabel('iters')\n",
    "plt.ylabel('j_cost')\n",
    "plt.title('cost variety')\n",
    "plt.show()\n",
    "\n"
   ]
  },
  {
   "cell_type": "code",
   "execution_count": 5,
   "metadata": {},
   "outputs": [
    {
     "name": "stdout",
     "output_type": "stream",
     "text": [
      "[[293365.7762653]]\n"
     ]
    }
   ],
   "source": [
    "#predict \n",
    "X_t =([[1650,3]] - mu) / sigma\n",
    "X_test = np.hstack((np.ones((1,1)),X_t))\n",
    "predict = X_test.dot(theta)\n",
    "print predict\n"
   ]
  },
  {
   "cell_type": "code",
   "execution_count": 9,
   "metadata": {},
   "outputs": [
    {
     "name": "stdout",
     "output_type": "stream",
     "text": [
      "(47, 3)\n",
      "(47, 1)\n",
      "Theta computed from the normal equations:\n",
      "[[89597.90954355]\n",
      " [  139.21067402]\n",
      " [-8738.01911255]]\n"
     ]
    }
   ],
   "source": [
    "#直接使用公式求解最佳theta,不用梯度下降法\n",
    "XX = data[:,:-1]\n",
    "yy = data[:,-1:]\n",
    "m=XX.shape[0]\n",
    "\n",
    "one = np.ones((m,1))\n",
    "XX = np.hstack((one,data[:,:-1]))\n",
    "print XX.shape\n",
    "print yy.shape\n",
    "\n",
    "def normalEquation(X_train,y_train):\n",
    "    w = np.zeros((X_train.shape[0],1))\n",
    "    w = ((np.linalg.pinv(X_train.T.dot(X_train))).dot(X_train.T)).dot(y_train)\n",
    "    return w\n",
    "w = normalEquation(XX,yy)\n",
    "print 'Theta computed from the normal equations:'\n",
    "print w\n",
    "\n"
   ]
  },
  {
   "cell_type": "code",
   "execution_count": 8,
   "metadata": {},
   "outputs": [
    {
     "name": "stdout",
     "output_type": "stream",
     "text": [
      "Predicted price of a 1650 sq-ft, 3 br house (using normal equations)\n",
      "[[293081.46433497]]\n"
     ]
    }
   ],
   "source": [
    "#predict price\n",
    "price = np.dot(np.array([[1,1650,3]]),w)\n",
    "print 'Predicted price of a 1650 sq-ft, 3 br house (using normal equations)'\n",
    "print price"
   ]
  }
 ],
 "metadata": {
  "kernelspec": {
   "display_name": "Python 2",
   "language": "python",
   "name": "python2"
  },
  "language_info": {
   "codemirror_mode": {
    "name": "ipython",
    "version": 2
   },
   "file_extension": ".py",
   "mimetype": "text/x-python",
   "name": "python",
   "nbconvert_exporter": "python",
   "pygments_lexer": "ipython2",
   "version": "2.7.12"
  }
 },
 "nbformat": 4,
 "nbformat_minor": 2
}

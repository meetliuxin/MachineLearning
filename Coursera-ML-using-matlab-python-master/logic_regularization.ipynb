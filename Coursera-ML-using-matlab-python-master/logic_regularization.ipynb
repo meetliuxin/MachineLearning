{
 "cells": [
  {
   "cell_type": "code",
   "execution_count": 1,
   "metadata": {},
   "outputs": [
    {
     "name": "stdout",
     "output_type": "stream",
     "text": [
      "(118, 3)\n",
      "[[ 0.051267  0.69956   1.      ]\n",
      " [-0.092742  0.68494   1.      ]\n",
      " [-0.21371   0.69225   1.      ]\n",
      " [-0.375     0.50219   1.      ]\n",
      " [-0.51325   0.46564   1.      ]]\n",
      "(118, 2)\n",
      "(118, 1)\n",
      "[[ 0.051267  0.69956 ]\n",
      " [-0.092742  0.68494 ]\n",
      " [-0.21371   0.69225 ]\n",
      " [-0.375     0.50219 ]\n",
      " [-0.51325   0.46564 ]]\n",
      "[[1.]\n",
      " [1.]\n",
      " [1.]\n",
      " [1.]\n",
      " [1.]]\n"
     ]
    }
   ],
   "source": [
    "#本文是正则化用于逻辑回归\n",
    "import numpy as np\n",
    "import matplotlib.pyplot as plt\n",
    "\n",
    "#load data from file\n",
    "def load_data(filename):\n",
    "    data = []\n",
    "    file = open(filename)\n",
    "    for line in file.readlines():\n",
    "        lineArr = line.strip().split(',')\n",
    "        col_num = len(lineArr)\n",
    "        temp = []\n",
    "        for i in xrange(col_num):\n",
    "            temp.append(float(lineArr[i]))\n",
    "        data.append(temp)\n",
    "    return np.array(data)\n",
    "\n",
    "#观察数据 \n",
    "data = load_data('ex2data2.txt')\n",
    "print data.shape\n",
    "print data[:5]\n",
    "\n",
    "X = data[:,:-1]\n",
    "y = data[:,-1:]\n",
    "print X.shape\n",
    "print y.shape\n",
    "print X[:5]\n",
    "print y[:5]\n",
    "\n"
   ]
  },
  {
   "cell_type": "code",
   "execution_count": 2,
   "metadata": {},
   "outputs": [
    {
     "data": {
      "image/png": "[encoded data removed]",
      "text/plain": [
       "<Figure size 432x288 with 1 Axes>"
      ]
     },
     "metadata": {},
     "output_type": "display_data"
    }
   ],
   "source": [
    "#可视化一下数据集合\n",
    "import matplotlib.pyplot as plt\n",
    "label0 = np.where(y.ravel() == 0)\n",
    "plt.scatter(X[label0,0],X[label0,1],marker='x',color = 'r',label = '0')\n",
    "label1 = np.where(y.ravel() == 1)\n",
    "plt.scatter(X[label1,0],X[label1,1],marker='o',color = 'b',label = '1')\n",
    "plt.xlabel('Exam 1 score')\n",
    "plt.ylabel('Exam 2 score')\n",
    "plt.legend(loc = 'upper left')\n",
    "plt.show()\n"
   ]
  },
  {
   "cell_type": "code",
   "execution_count": 3,
   "metadata": {},
   "outputs": [
    {
     "name": "stdout",
     "output_type": "stream",
     "text": [
      "(118, 1) (118, 1)\n",
      "(118, 28)\n",
      "Cost at initial theta (zeros)=0.693\n",
      "[[0.69314718]]\n",
      "0.0085\n",
      " 0.0188\n",
      " 0.0001\n",
      " 0.0503\n",
      " 0.0115\n",
      "\n",
      "[[8.47457627e-03]\n",
      " [1.87880932e-02]\n",
      " [7.77711864e-05]\n",
      " [5.03446395e-02]\n",
      " [1.15013308e-02]]\n",
      "cost=3.16\n",
      "[[3.16450933]]\n"
     ]
    }
   ],
   "source": [
    "#add polynomial features to our data matrix (similar to polynomial regression).\n",
    "#添加多项式特征，例如x1*x2等\n",
    "def mapFeature(X1,X2):\n",
    "    degree = 6\n",
    "    out = np.ones((X1.shape[0],1))\n",
    "    end = 0\n",
    "    for i in np.arange(1,degree+1,1):\n",
    "        for j in np.arange(0,i+1,1):\n",
    "           temp = X1**(i-j) * X2**(j)\n",
    "           out = np.hstack((out,temp))\n",
    "    return out\n",
    "\n",
    "#regularized logistic\n",
    "def sigmoid(x):\n",
    "    return 1 / (1+np.exp(-x))\n",
    "def out(x,w):\n",
    "    return sigmoid(np.dot(x,w))\n",
    "#正则化用于逻辑回归\n",
    "def cost_reg(theta,XX,yy,reg):\n",
    "    m = XX.shape[0]\n",
    "    J = 0\n",
    "    grad = np.zeros((XX.shape[1],1))\n",
    "    h = out(XX,theta)\n",
    "    theta_1 = theta[1:,:]\n",
    "    J = -1*np.sum(yy*np.log(h) + (1-yy)*np.log((1-h))) / m + 0.5 * reg * theta_1.T.dot(theta_1) / m\n",
    "    grad = XX.T.dot((h-yy)) / m \n",
    "    grad[1:,:] += reg*theta_1/m  #theta0 without reg\n",
    "    return J,grad\n",
    "\n",
    "X1=data[:,0:1]\n",
    "X2=data[:,1:2]\n",
    "print X1.shape,X2.shape\n",
    "X_map = mapFeature(X1,X2)\n",
    "print X_map.shape\n",
    "initial_theta = np.zeros((X_map.shape[1],1))\n",
    "reg = 1\n",
    "#然后用一些简单的值测试一下正确性，这是一下好习惯\n",
    "cost,grad = cost_reg(initial_theta,X_map,y,reg)\n",
    "print 'Cost at initial theta (zeros)=0.693'\n",
    "print cost\n",
    "print '0.0085\\n 0.0188\\n 0.0001\\n 0.0503\\n 0.0115\\n'\n",
    "print grad[:5]\n",
    "\n",
    "test_theta = np.ones((X_map.shape[1],1)) \n",
    "cost1,grad1 =cost_reg(test_theta,X_map,y,10)\n",
    "print 'cost=3.16'\n",
    "print cost1\n"
   ]
  },
  {
   "cell_type": "code",
   "execution_count": 4,
   "metadata": {},
   "outputs": [
    {
     "name": "stdout",
     "output_type": "stream",
     "text": [
      "iter=0,cost=0.693091 \n",
      "iter=200,cost=0.596393 \n",
      "iter=400,cost=0.562766 \n",
      "iter=600,cost=0.546811 \n",
      "iter=800,cost=0.538704 \n",
      "iter=1000,cost=0.534414 \n",
      "iter=1200,cost=0.532077 \n",
      "iter=1400,cost=0.530776 \n",
      "iter=1600,cost=0.530039 \n",
      "iter=1800,cost=0.529616 \n",
      "iter=2000,cost=0.529370 \n",
      "iter=2200,cost=0.529225 \n",
      "iter=2400,cost=0.529138 \n",
      "iter=2600,cost=0.529086 \n",
      "iter=2800,cost=0.529055 \n",
      "iter=3000,cost=0.529035 \n",
      "iter=3200,cost=0.529023 \n",
      "iter=3400,cost=0.529016 \n",
      "iter=3600,cost=0.529011 \n",
      "iter=3800,cost=0.529008 \n",
      "iter=4000,cost=0.529006 \n",
      "iter=4200,cost=0.529005 \n",
      "iter=4400,cost=0.529004 \n",
      "iter=4600,cost=0.529004 \n",
      "iter=4800,cost=0.529003 \n"
     ]
    }
   ],
   "source": [
    "#实现batch gradient decent批量梯度下降法\n",
    "def bgd(X_train,y_train,theta,alpha = 0.1,iters = 5000,reg = 1):\n",
    "    J_history = []\n",
    "    for i in xrange(iters):\n",
    "        cost,grad = cost_reg(theta,X_train,y_train,reg)\n",
    "        theta = theta - alpha * grad\n",
    "        J_history.append(float(cost))\n",
    "        if i%200 == 0:\n",
    "            print 'iter=%d,cost=%f '%(i,cost)\n",
    "    return theta,J_history\n",
    "\n",
    "W = 0.001*np.random.randn(X_map.shape[1],1).reshape((-1,1))\n",
    "theta,J_history = bgd(X_map,y,W)\n",
    "\n",
    "    "
   ]
  },
  {
   "cell_type": "code",
   "execution_count": 5,
   "metadata": {},
   "outputs": [
    {
     "data": {
      "image/png": "[encoded data removed]",
      "text/plain": [
       "<Figure size 432x288 with 1 Axes>"
      ]
     },
     "metadata": {},
     "output_type": "display_data"
    }
   ],
   "source": [
    "import matplotlib.pyplot as plt\n",
    "plt.plot(J_history)\n",
    "plt.xlabel('iters')\n",
    "plt.ylabel('j_cost')\n",
    "plt.show()\n",
    "#可视化一下cost\n",
    "\n",
    "\n"
   ]
  },
  {
   "cell_type": "code",
   "execution_count": 6,
   "metadata": {},
   "outputs": [
    {
     "name": "stderr",
     "output_type": "stream",
     "text": [
      "/home/x/.local/lib/python2.7/site-packages/matplotlib/contour.py:960: UserWarning: The following kwargs were not used by contour: 'linewidth'\n",
      "  s)\n"
     ]
    },
    {
     "data": {
      "image/png": "[encoded data removed]",
      "text/plain": [
       "<Figure size 432x288 with 1 Axes>"
      ]
     },
     "metadata": {},
     "output_type": "display_data"
    }
   ],
   "source": [
    "#绘制非线性的决策边界\n",
    "\n",
    "import numpy as np\n",
    "import matplotlib.pyplot as plt\n",
    "from sklearn.preprocessing import PolynomialFeatures\n",
    "#plot the scatter\n",
    "label0 = np.where(y.ravel() == 0)\n",
    "plt.scatter(X[label0,0],X[label0,1],marker='x',color = 'r',label = '0')\n",
    "label1 = np.where(y.ravel() == 1)\n",
    "plt.scatter(X[label1,0],X[label1,1],marker='o',color = 'b',label = '1')\n",
    "plt.xlabel('Exam 1 score')\n",
    "plt.ylabel('Exam 2 score')\n",
    "plt.legend(loc = 'upper left')\n",
    "#plot the boundary\n",
    "poly = PolynomialFeatures(6)\n",
    "x1Min = X[:, 0].min()\n",
    "x1Max = X[:, 0].max()\n",
    "x2Min = X[:, 1].min()\n",
    "x2Max = X[:, 1].max()\n",
    "xx1, xx2 = np.meshgrid(np.linspace(x1Min, x1Max),np.linspace(x2Min, x2Max))\n",
    "h1 = poly.fit_transform(np.c_[xx1.ravel(), xx2.ravel()]).dot(theta)\n",
    "h2 = sigmoid(poly.fit_transform(np.c_[xx1.ravel(), xx2.ravel()]).dot(theta)) #boundary\n",
    "h1 = h1.reshape(xx1.shape)\n",
    "h2 = h2.reshape(xx1.shape)\n",
    "plt.contour(xx1, xx2, h1, [0.5], colors='b', linewidth=.5)\n",
    "plt.contour(xx1, xx2, h2, [0.5], colors='black', linewidth=.5)\n",
    "plt.show()\n",
    "\n",
    "\n"
   ]
  },
  {
   "cell_type": "code",
   "execution_count": 7,
   "metadata": {},
   "outputs": [
    {
     "name": "stdout",
     "output_type": "stream",
     "text": [
      "Expected accuracy (with lambda = 1): 83.1 (approx)\n",
      "0.8305084745762712\n"
     ]
    }
   ],
   "source": [
    "#决策函数\n",
    "def predict(X,theta):\n",
    "    h = out(X,theta)\n",
    "    y_pred = np.where(h>=0.5,1.0,0)\n",
    "    return y_pred \n",
    "\n",
    "p = predict(X_map,theta)\n",
    "print \"Expected accuracy (with lambda = 1): 83.1 (approx)\"\n",
    "print np.mean(p==y)\n"
   ]
  },
  {
   "cell_type": "code",
   "execution_count": null,
   "metadata": {},
   "outputs": [],
   "source": []
  }
 ],
 "metadata": {
  "kernelspec": {
   "display_name": "Python 2",
   "language": "python",
   "name": "python2"
  },
  "language_info": {
   "codemirror_mode": {
    "name": "ipython",
    "version": 2
   },
   "file_extension": ".py",
   "mimetype": "text/x-python",
   "name": "python",
   "nbconvert_exporter": "python",
   "pygments_lexer": "ipython2",
   "version": "2.7.12"
  }
 },
 "nbformat": 4,
 "nbformat_minor": 1
}

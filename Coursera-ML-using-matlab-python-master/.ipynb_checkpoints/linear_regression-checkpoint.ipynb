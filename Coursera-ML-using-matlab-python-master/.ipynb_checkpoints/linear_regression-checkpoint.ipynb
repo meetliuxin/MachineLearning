{
 "cells": [
  {
   "cell_type": "code",
   "execution_count": 1,
   "metadata": {},
   "outputs": [
    {
     "ename": "SyntaxError",
     "evalue": "Missing parentheses in call to 'print'. Did you mean print(data.shape)? (<ipython-input-1-070cc1825d75>, line 21)",
     "output_type": "error",
     "traceback": [
      "\u001b[0;36m  File \u001b[0;32m\"<ipython-input-1-070cc1825d75>\"\u001b[0;36m, line \u001b[0;32m21\u001b[0m\n\u001b[0;31m    print data.shape\u001b[0m\n\u001b[0m             ^\u001b[0m\n\u001b[0;31mSyntaxError\u001b[0m\u001b[0;31m:\u001b[0m Missing parentheses in call to 'print'. Did you mean print(data.shape)?\n"
     ]
    }
   ],
   "source": [
    "#本文是线性回归模型\n",
    "import numpy as np\n",
    "import matplotlib.pyplot as plt\n",
    "\n",
    "#load data from file\n",
    "#从txt文件导入数据，\n",
    "def load_data(filename):\n",
    "    data = []\n",
    "    file = open(filename)\n",
    "    for line in file.readlines():\n",
    "        lineArr = line.strip().split(',')\n",
    "        col_num = len(lineArr)\n",
    "        temp = []\n",
    "        for i in xrange(col_num):\n",
    "            temp.append(float(lineArr[i]))\n",
    "        data.append(temp)\n",
    "    return np.array(data)\n",
    "\n",
    "#打印出来看一下数据集大小  \n",
    "data = load_data('ex1data1.txt')\n",
    "print data.shape\n",
    "print data[:5]\n",
    "\n",
    "X = data[:,:-1]\n",
    "y = data[:,-1:]\n",
    "print X.shape\n",
    "print y.shape\n",
    "print X[:5]\n",
    "print y[:5]\n",
    "\n",
    "\n"
   ]
  },
  {
   "cell_type": "code",
   "execution_count": null,
   "metadata": {},
   "outputs": [],
   "source": [
    "#plot data\n",
    "#可视化一下数据集\n",
    "plt.scatter(X,y,color = 'r',marker= 'x')\n",
    "plt.xlabel('X')\n",
    "plt.ylabel('y')\n",
    "plt.show()\n",
    "\n"
   ]
  },
  {
   "cell_type": "code",
   "execution_count": null,
   "metadata": {},
   "outputs": [],
   "source": [
    "#compute the cost \n",
    "num_train = X.shape[0]\n",
    "one = np.ones((num_train,1)) \n",
    "X = np.hstack((one,data[:,:-1])) #add ones\n",
    "W = np.zeros((2,1)) #w0 ,w1\n",
    "print X.shape\n",
    "print W\n",
    "#定义一下计算cost的函数，并且测试一下是否正确\n",
    "def compute_cost(X_test,y_test,theta):\n",
    "    num_X = X_test.shape[0]\n",
    "    cost = 0.5 * np.sum(np.square(X_test.dot(theta) - y_test)) / num_X\n",
    "    return cost\n",
    "\n",
    "cost_1 = compute_cost(X,y,W)\n",
    "print 'cost =%f,with W =[0,0]'%(cost_1)\n",
    "print 'Expected cost value (approx) 32.07'\n",
    "cost_2 = compute_cost(X,y,np.array([[-1],[2]]))\n",
    "print 'cost =%f,with W =[-1,2]'%(cost_2)\n",
    "print 'Expected cost value (approx) 54.24'\n"
   ]
  },
  {
   "cell_type": "code",
   "execution_count": null,
   "metadata": {},
   "outputs": [],
   "source": [
    "# gradient descent\n",
    "#定义一下梯度下降函数，更新参数theta。测试一下正确\n",
    "def gradient_descent(X_test,y_test,theta,alpha = 0.01,iters = 1500):\n",
    "    J_history = []\n",
    "    num_X = X_test.shape[0]\n",
    "    for i in xrange(iters):\n",
    "        theta = theta - alpha * X_test.T.dot(X_test.dot(theta) - y_test) / num_X\n",
    "        cost = compute_cost(X_test,y_test,theta)\n",
    "        J_history.append(cost)\n",
    "    return theta,J_history\n",
    "\n",
    "theta,J_history = gradient_descent(X,y,np.array([[0.001],[0.001]]))\n",
    "print theta\n",
    "print 'Expected theta values (approx) W = [-3.6303,1.1664] '\n",
    "\n"
   ]
  },
  {
   "cell_type": "code",
   "execution_count": null,
   "metadata": {},
   "outputs": [],
   "source": [
    "#predict 预测一下\n",
    "predict1 = np.array([[1,3.5]]).dot(theta)\n",
    "predict2 = np.array([[1,7]]).dot(theta)\n",
    "print predict1*10000,predict2*10000\n"
   ]
  },
  {
   "cell_type": "code",
   "execution_count": null,
   "metadata": {},
   "outputs": [],
   "source": [
    "#plot the result可视化一下回归的曲线\n",
    "plt.subplot(211)\n",
    "plt.scatter(X[:,1],y,color = 'r',marker= 'x')\n",
    "plt.xlabel('X')\n",
    "plt.ylabel('y')\n",
    "\n",
    "plt.plot(X[:,1],X.dot(theta),'-',color = 'black')\n",
    "#可视化一下cost变化曲线\n",
    "plt.subplot(212)\n",
    "plt.plot(J_history)\n",
    "plt.xlabel('iters')\n",
    "plt.ylabel('cost')\n",
    "plt.show()\n",
    "\n"
   ]
  },
  {
   "cell_type": "code",
   "execution_count": null,
   "metadata": {},
   "outputs": [],
   "source": [
    "#可视化一下3d图像，因为J与theta0和theta1两个参数有关\n",
    "#Visualizing J(theta_0, theta_1)\n",
    "import numpy as np\n",
    "from mpl_toolkits.mplot3d import Axes3D\n",
    "import matplotlib.pyplot as plt\n",
    "\n",
    "size = 100\n",
    "theta0Vals = np.linspace(-10,10, size)\n",
    "theta1Vals = np.linspace(-1, 4, size)\n",
    "JVals = np.zeros((size, size))\n",
    "for i in range(size):\n",
    "    for j in range(size):\n",
    "        col = np.array([[theta0Vals[i]], [theta1Vals[j]]]).reshape(-1,1)\n",
    "        JVals[i,j] = compute_cost(X,y,col)\n",
    "\n",
    "theta0Vals, theta1Vals = np.meshgrid(theta0Vals, theta1Vals)\n",
    "JVals = JVals.T\n",
    "print JVals.shape,JVals[0,0],JVals[1,1] #test correct\n",
    "\n",
    "fig = plt.figure()\n",
    "ax = Axes3D(fig)\n",
    "ax.plot_surface(theta0Vals, theta1Vals, JVals)\n",
    "ax.set_xlabel(r'$\\theta_0$')\n",
    "ax.set_ylabel(r'$\\theta_1$')\n",
    "ax.set_zlabel(r'$J(\\theta)$')\n",
    "plt.show()\n"
   ]
  },
  {
   "cell_type": "code",
   "execution_count": null,
   "metadata": {},
   "outputs": [],
   "source": [
    "#绘制轮廓曲线,因为J与theta0和theta1两个参数有关\n",
    "contourFig = plt.figure()\n",
    "ax = contourFig.add_subplot(111)\n",
    "ax.set_xlabel(r'$\\theta_0$')\n",
    "ax.set_ylabel(r'$\\theta_1$')\n",
    "\n",
    "CS = ax.contour(theta0Vals, theta1Vals, JVals, np.logspace(-2,3,20))\n",
    "plt.clabel(CS, inline=1, fontsize=10)\n",
    "\n",
    "# 绘制最优解\n",
    "ax.plot(theta[0,0], theta[1,0], 'rx', markersize=10, linewidth=2)\n",
    "plt.show()\n",
    "\n",
    "\n",
    "\n"
   ]
  },
  {
   "cell_type": "code",
   "execution_count": null,
   "metadata": {},
   "outputs": [],
   "source": []
  },
  {
   "cell_type": "code",
   "execution_count": null,
   "metadata": {},
   "outputs": [],
   "source": []
  }
 ],
 "metadata": {
  "kernelspec": {
   "display_name": "Python 3",
   "language": "python",
   "name": "python3"
  },
  "language_info": {
   "codemirror_mode": {
    "name": "ipython",
    "version": 3
   },
   "file_extension": ".py",
   "mimetype": "text/x-python",
   "name": "python",
   "nbconvert_exporter": "python",
   "pygments_lexer": "ipython3",
   "version": "3.6.4"
  }
 },
 "nbformat": 4,
 "nbformat_minor": 1
}

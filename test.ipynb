{
 "cells": [
  {
   "cell_type": "code",
   "execution_count": 38,
   "metadata": {},
   "outputs": [
    {
     "name": "stdout",
     "output_type": "stream",
     "text": [
      "[[1 2 3]\n",
      " [4 5 6]\n",
      " [7 8 9]]\n",
      "[1 0 1]\n",
      "[[1]\n",
      " [0]\n",
      " [1]]\n",
      "(array([[1, 2, 3],\n",
      "       [4, 5, 6],\n",
      "       [7, 8, 9]]), array([[1],\n",
      "       [0],\n",
      "       [1]]))\n",
      "[[1 2 3]\n",
      " [4 5 6]\n",
      " [7 8 9]]\n",
      "[[1]\n",
      " [0]\n",
      " [1]]\n",
      "(3, 3)\n",
      "3\n",
      "3\n"
     ]
    }
   ],
   "source": [
    "import numpy as np\n",
    "import matplotlib.pyplot as plt\n",
    "\n",
    "a = np.array(([1,2,3],[4,5,6],[7,8,9]))\n",
    "\n",
    "b=np.array([1,0,1])\n",
    "c=b.reshape(-1,1)\n",
    "\n",
    "print a\n",
    "print b\n",
    "print c\n",
    "print (a,c)\n",
    "def f(*args):\n",
    "    A,B = args\n",
    "    print A\n",
    "    print B\n",
    "\n",
    "f(*(a,c))\n",
    "print a.shape\n",
    "q,r = a.shape\n",
    "print q\n",
    "print r\n"
   ]
  }
 ],
 "metadata": {
  "kernelspec": {
   "display_name": "Python 2",
   "language": "python",
   "name": "python2"
  },
  "language_info": {
   "codemirror_mode": {
    "name": "ipython",
    "version": 2
   },
   "file_extension": ".py",
   "mimetype": "text/x-python",
   "name": "python",
   "nbconvert_exporter": "python",
   "pygments_lexer": "ipython2",
   "version": "2.7.12"
  }
 },
 "nbformat": 4,
 "nbformat_minor": 2
}

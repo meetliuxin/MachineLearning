{
 "cells": [
  {
   "cell_type": "code",
   "execution_count": 12,
   "metadata": {},
   "outputs": [
    {
     "name": "stdout",
     "output_type": "stream",
     "text": [
      "(118, 3)\n",
      "[[ 0.051267  0.69956   1.      ]\n",
      " [-0.092742  0.68494   1.      ]\n",
      " [-0.21371   0.69225   1.      ]\n",
      " [-0.375     0.50219   1.      ]\n",
      " [-0.51325   0.46564   1.      ]]\n",
      "(118, 2)\n",
      "[[ 0.051267  0.69956 ]\n",
      " [-0.092742  0.68494 ]\n",
      " [-0.21371   0.69225 ]\n",
      " [-0.375     0.50219 ]\n",
      " [-0.51325   0.46564 ]]\n"
     ]
    }
   ],
   "source": [
    "import numpy as np\n",
    "import matplotlib.pyplot as plt\n",
    "\n",
    "def load_data(filename):\n",
    "    data = []\n",
    "    f = open(filename)\n",
    "    for line in f.readlines():\n",
    "        lineArr = line.strip().split(',')\n",
    "        lineLen =len(lineArr)\n",
    "        temp = []\n",
    "        for i in xrange(lineLen):\n",
    "            temp.append(float(lineArr[i]))\n",
    "        data.append(temp)\n",
    "    return np.array(data)\n",
    "\n",
    "data = load_data('ex2data2.txt')\n",
    "print data.shape\n",
    "print data[:5,:]\n",
    "\n",
    "\n",
    "X = data[:,:-1]\n",
    "y = data[:,-1:]\n",
    "print X.shape\n",
    "print X[:5]\n"
   ]
  },
  {
   "cell_type": "code",
   "execution_count": 22,
   "metadata": {},
   "outputs": [
    {
     "data": {
      "image/png": "[encoded data removed]",
      "text/plain": [
       "<Figure size 432x288 with 1 Axes>"
      ]
     },
     "metadata": {},
     "output_type": "display_data"
    }
   ],
   "source": [
    "label0 = np.where(y.ravel() == 0)\n",
    "plt.scatter(X[label0,0],X[label0,1],marker='x',color='b',label='0')\n",
    "\n",
    "label1 = np.where(y.ravel() == 1)\n",
    "plt.scatter(X[label1,0],X[label1,1],marker='o',color='r',label='1')\n",
    "\n",
    "plt.xlabel('exam 1')\n",
    "plt.ylabel('exam 2')\n",
    "\n",
    "plt.legend(loc='upper right')\n",
    "\n",
    "\n",
    "plt.show()"
   ]
  },
  {
   "cell_type": "code",
   "execution_count": 40,
   "metadata": {},
   "outputs": [
    {
     "name": "stdout",
     "output_type": "stream",
     "text": [
      "[[1 2]\n",
      " [3 4]]\n",
      "[5 6]\n",
      "(2, 55)\n",
      "(118, 55)\n"
     ]
    }
   ],
   "source": [
    "def mapFeature(X1,X2):\n",
    "    degree = 6\n",
    "    out = np.ones((X1.shape[0],1))\n",
    "    end = 0\n",
    "    for i in np.arange(1,degree+1,1):\n",
    "        for j in np.arange(0,i+1,1):\n",
    "           temp = X1**(i-j) * X2**(j)\n",
    "           out = np.hstack((out,temp))\n",
    "    return out\n",
    "\n",
    "xx=np.array([[1,2],[3,4]])\n",
    "yy=np.array([5,6])\n",
    "test = mapFeature(xx,yy)\n",
    "\n",
    "\n",
    "print xx\n",
    "print yy\n",
    "print test.shape\n",
    "print mapFeature(X,y).shape\n"
   ]
  }
 ],
 "metadata": {
  "kernelspec": {
   "display_name": "Python 2",
   "language": "python",
   "name": "python2"
  },
  "language_info": {
   "codemirror_mode": {
    "name": "ipython",
    "version": 2
   },
   "file_extension": ".py",
   "mimetype": "text/x-python",
   "name": "python",
   "nbconvert_exporter": "python",
   "pygments_lexer": "ipython2",
   "version": "2.7.12"
  }
 },
 "nbformat": 4,
 "nbformat_minor": 2
}
